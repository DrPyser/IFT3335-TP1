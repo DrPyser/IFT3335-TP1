{
 "cells": [
  {
   "cell_type": "code",
   "execution_count": null,
   "metadata": {
    "collapsed": true
   },
   "outputs": [],
   "source": [
    "import search\n",
    "from sudoku import Sudoku\n",
    "import copy\n",
    "import random"
   ]
  },
  {
   "cell_type": "code",
   "execution_count": null,
   "metadata": {
    "collapsed": false
   },
   "outputs": [],
   "source": [
    "with open('100sudoku.txt', 'r') as f:\n",
    "    line = f.readline()"
   ]
  },
  {
   "cell_type": "code",
   "execution_count": null,
   "metadata": {
    "collapsed": false
   },
   "outputs": [],
   "source": [
    "class LewisSudokuProblem(search.Problem):\n",
    "    \n",
    "    def __init__(self, initial_sudoku, goal=None):\n",
    "        self.goal = None\n",
    "        \n",
    "        for i in range(0, 9, 3):\n",
    "            for j in range(0, 9, 3):\n",
    "                numbers = set(range(1, 10)) - set(initial_sudoku.get_square(i, j))\n",
    "                for x in range(i, i + 3):\n",
    "                    for y in range(j, j + 3):\n",
    "                        if initial_sudoku.sudoku[x][y] == 0:\n",
    "                            n = random.choice(list(numbers))\n",
    "                            initial_sudoku.sudoku[x][y] = n\n",
    "                            numbers -= set([n])\n",
    "        self.initial = initial_sudoku\n",
    "        \n",
    "    def actions(self, state):\n",
    "        for i in range(0, 9, 3):\n",
    "            for j in range(0, 9, 3):\n",
    "                square_non_fixed = []\n",
    "                for x in range(i, i + 3):\n",
    "                    for y in range(j, j + 3):\n",
    "                        if (x, y) not in state.fixed:\n",
    "                            square_non_fixed.append((x, y))\n",
    "                while len(square_non_fixed) > 1:\n",
    "                    s1 = square_non_fixed.pop()\n",
    "                    for s2 in square_non_fixed:\n",
    "                        yield (s1, s2)\n",
    "                        \n",
    "    def result(self, state, action):\n",
    "        (x1, y1), (x2, y2) = action\n",
    "        state_copy = copy.deepcopy(state)\n",
    "        state_copy.sudoku[x1][y1], state_copy.sudoku[x2][y2] = state_copy.sudoku[x2][y2], state_copy.sudoku[x1][y1]\n",
    "        return state_copy\n",
    "    \n",
    "    def goal_test(self, state):\n",
    "        return self.value(state) == 0\n",
    "    \n",
    "    def value(self, state):\n",
    "        one_to_nine = set(range(1, 10))\n",
    "        s = 0\n",
    "        for i in range(0, 9):\n",
    "            s += len(one_to_nine - set(state.get_line(i)))\n",
    "            s += len(one_to_nine - set(state.get_column(i)))\n",
    "        return -s"
   ]
  },
  {
   "cell_type": "code",
   "execution_count": null,
   "metadata": {
    "collapsed": false
   },
   "outputs": [],
   "source": [
    "def sim(t):\n",
    "    p = 0.8*0.99**t\n",
    "    if p < 0.01:\n",
    "        return 0\n",
    "    return p"
   ]
  },
  {
   "cell_type": "code",
   "execution_count": null,
   "metadata": {
    "collapsed": true
   },
   "outputs": [],
   "source": [
    "def tests(lines, problem_class, search_f):\n",
    "    count = []\n",
    "    cost = []\n",
    "    for l in lines:\n",
    "        s = Sudoku(l)\n",
    "        p = problem_class(s)\n",
    "        sudo, c = search_f(p)\n",
    "        count.append(c)\n",
    "        cost.append(p.value(sudo))\n",
    "    return cost, count"
   ]
  },
  {
   "cell_type": "code",
   "execution_count": null,
   "metadata": {
    "collapsed": false
   },
   "outputs": [],
   "source": [
    "with open('100sudoku.txt', 'r') as f:\n",
    "    lines = f.readlines()"
   ]
  },
  {
   "cell_type": "code",
   "execution_count": null,
   "metadata": {
    "collapsed": false
   },
   "outputs": [],
   "source": [
    "hill_cost, hill_count = tests(lines, LewisSudokuProblem, search.hill_climbing)\n",
    "annealing_cost, annealing_count = tests(lines[:3], LewisSudokuProblem, lambda p: search.simulated_annealing(p, sim))"
   ]
  }
 ],
 "metadata": {
  "kernelspec": {
   "display_name": "Python [ipykernel_py3]",
   "language": "python",
   "name": "Python [ipykernel_py3]"
  },
  "language_info": {
   "codemirror_mode": {
    "name": "ipython",
    "version": 3
   },
   "file_extension": ".py",
   "mimetype": "text/x-python",
   "name": "python",
   "nbconvert_exporter": "python",
   "pygments_lexer": "ipython3",
   "version": "3.6.0"
  }
 },
 "nbformat": 4,
 "nbformat_minor": 0
}
